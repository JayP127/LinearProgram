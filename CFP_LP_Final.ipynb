{
  "nbformat": 4,
  "nbformat_minor": 0,
  "metadata": {
    "colab": {
      "provenance": [],
      "authorship_tag": "ABX9TyOMQ3XZihVr1Q5Z3tRshs8h",
      "include_colab_link": true
    },
    "kernelspec": {
      "name": "python3",
      "display_name": "Python 3"
    },
    "language_info": {
      "name": "python"
    }
  },
  "cells": [
    {
      "cell_type": "markdown",
      "metadata": {
        "id": "view-in-github",
        "colab_type": "text"
      },
      "source": [
        "<a href=\"https://colab.research.google.com/github/JayP127/LinearProgram/blob/main/CFP_LP_Final.ipynb\" target=\"_parent\"><img src=\"https://colab.research.google.com/assets/colab-badge.svg\" alt=\"Open In Colab\"/></a>"
      ]
    },
    {
      "cell_type": "code",
      "execution_count": null,
      "metadata": {
        "colab": {
          "base_uri": "https://localhost:8080/"
        },
        "id": "pKTP3Rch0S9u",
        "outputId": "f88dcf46-d36b-4ff9-e164-3e92ffa81518"
      },
      "outputs": [
        {
          "output_type": "stream",
          "name": "stdout",
          "text": [
            "Looking in indexes: https://pypi.org/simple, https://us-python.pkg.dev/colab-wheels/public/simple/\n",
            "Collecting PuLP\n",
            "  Downloading PuLP-2.7.0-py3-none-any.whl (14.3 MB)\n",
            "\u001b[2K     \u001b[90m━━━━━━━━━━━━━━━━━━━━━━━━━━━━━━━━━━━━━━━━\u001b[0m \u001b[32m14.3/14.3 MB\u001b[0m \u001b[31m50.4 MB/s\u001b[0m eta \u001b[36m0:00:00\u001b[0m\n",
            "\u001b[?25hInstalling collected packages: PuLP\n",
            "Successfully installed PuLP-2.7.0\n"
          ]
        }
      ],
      "source": [
        "!pip install PuLP"
      ]
    },
    {
      "cell_type": "code",
      "source": [
        "import pulp as p"
      ],
      "metadata": {
        "id": "DLX1N-xy07v3"
      },
      "execution_count": null,
      "outputs": []
    },
    {
      "cell_type": "code",
      "source": [
        "Lp_prob = p.LpProblem('PCO2', p.LpMaximize)"
      ],
      "metadata": {
        "id": "bM_cyShd0_-S"
      },
      "execution_count": null,
      "outputs": []
    },
    {
      "cell_type": "markdown",
      "source": [
        "# Decision Variables"
      ],
      "metadata": {
        "id": "Q-iB9p0n1hfe"
      }
    },
    {
      "cell_type": "code",
      "source": [
        "w1 = p.LpVariable(\"w1\", lowBound = 0.05, upBound = 0.30) #Create a variable w1 >= 0\n",
        "w2 = p.LpVariable(\"w2\", lowBound = 0.05, upBound = 0.30) #Create a variable w2 >= 0\n",
        "w3 = p.LpVariable(\"w3\", lowBound = 0.05, upBound = 0.30) #Create a variable w3 >= 0\n",
        "w4 = p.LpVariable(\"w4\", lowBound = 0.05, upBound = 0.30) #Create a variable w4 >= 0\n",
        "w5 = p.LpVariable(\"w5\", lowBound = 0.05, upBound = 0.30) #Create a variable w5 >= 0"
      ],
      "metadata": {
        "id": "35vZ-6cL1kyC"
      },
      "execution_count": null,
      "outputs": []
    },
    {
      "cell_type": "code",
      "source": [
        "\n",
        "A = 1/108\n",
        "B = 1/75\n",
        "C = 1/399\n",
        "D = 1/154\n",
        "E = 1/7\n"
      ],
      "metadata": {
        "id": "3gfg2-XDvXZv"
      },
      "execution_count": null,
      "outputs": []
    },
    {
      "cell_type": "markdown",
      "source": [
        "# Objective Function"
      ],
      "metadata": {
        "id": "dRgl3RZdyQLj"
      }
    },
    {
      "cell_type": "code",
      "source": [
        "Lp_prob += A*w1 + B*w2 + C*w3 + D*w4 + E*w5"
      ],
      "metadata": {
        "id": "Papy3IrByVbJ"
      },
      "execution_count": null,
      "outputs": []
    },
    {
      "cell_type": "markdown",
      "source": [
        "# Constraints"
      ],
      "metadata": {
        "id": "2_nnRW9-zDPK"
      }
    },
    {
      "cell_type": "code",
      "source": [
        "Lp_prob += w1 + w2 + w3 + w4 + w5 == 1"
      ],
      "metadata": {
        "id": "nWxduPXzy5mj"
      },
      "execution_count": null,
      "outputs": []
    },
    {
      "cell_type": "code",
      "source": [
        "print(Lp_prob)"
      ],
      "metadata": {
        "colab": {
          "base_uri": "https://localhost:8080/"
        },
        "id": "aAXJes70zV_Z",
        "outputId": "ec488a62-c324-45c0-e40b-c3b25ded0fe8"
      },
      "execution_count": null,
      "outputs": [
        {
          "output_type": "stream",
          "name": "stdout",
          "text": [
            "PCO2:\n",
            "MAXIMIZE\n",
            "0.009259259259259259*w1 + 0.013333333333333334*w2 + 0.002506265664160401*w3 + 0.006493506493506494*w4 + 0.14285714285714285*w5 + 0.0\n",
            "SUBJECT TO\n",
            "_C1: w1 + w2 + w3 + w4 + w5 = 1\n",
            "\n",
            "VARIABLES\n",
            "0.05 <= w1 <= 0.3 Continuous\n",
            "0.05 <= w2 <= 0.3 Continuous\n",
            "0.05 <= w3 <= 0.3 Continuous\n",
            "0.05 <= w4 <= 0.3 Continuous\n",
            "0.05 <= w5 <= 0.3 Continuous\n",
            "\n"
          ]
        }
      ]
    },
    {
      "cell_type": "markdown",
      "source": [
        "# Solving the LPP"
      ],
      "metadata": {
        "id": "YysvXoWu5FAc"
      }
    },
    {
      "cell_type": "code",
      "source": [
        "status = Lp_prob.solve()\n",
        "print(p.LpStatus[status])"
      ],
      "metadata": {
        "colab": {
          "base_uri": "https://localhost:8080/"
        },
        "id": "smV4aamZ5MOW",
        "outputId": "878541ff-821d-4b67-9ac8-13c9269c70ea"
      },
      "execution_count": null,
      "outputs": [
        {
          "output_type": "stream",
          "name": "stdout",
          "text": [
            "Optimal\n"
          ]
        }
      ]
    },
    {
      "cell_type": "markdown",
      "source": [
        "# Solution"
      ],
      "metadata": {
        "id": "0RxW7yh75_TV"
      }
    },
    {
      "cell_type": "code",
      "source": [
        "print(\"w1\", p.value(w1))\n",
        "print(\"w2\", p.value(w2))\n",
        "print(\"w3\", p.value(w3))\n",
        "print(\"w4\", p.value(w4))\n",
        "print(\"w5\", p.value(w5))\n",
        "print(\"Objective = \", p.value(Lp_prob.objective))\n",
        "print(\"CERp = \", 1/p.value(Lp_prob.objective))"
      ],
      "metadata": {
        "colab": {
          "base_uri": "https://localhost:8080/"
        },
        "id": "TUvpMKhk5rZK",
        "outputId": "6ce2a7e1-39c3-4f5a-ae6c-4182521d31c8"
      },
      "execution_count": null,
      "outputs": [
        {
          "output_type": "stream",
          "name": "stdout",
          "text": [
            "w1 0.3\n",
            "w2 0.3\n",
            "w3 0.05\n",
            "w4 0.05\n",
            "w5 0.3\n",
            "Objective =  0.050084909242803975\n",
            "CERp =  19.966093881734977\n"
          ]
        }
      ]
    }
  ]
}